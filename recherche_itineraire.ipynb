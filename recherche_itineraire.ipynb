{
 "cells": [
  {
   "cell_type": "markdown",
   "metadata": {},
   "source": [
    "**Import modules et données puis préparation**"
   ]
  },
  {
   "cell_type": "code",
   "execution_count": 1,
   "metadata": {},
   "outputs": [],
   "source": [
    "import math\n",
    "from random import randrange\n",
    "import numpy as np\n",
    "import pandas as pd\n",
    "df = pd.read_csv(\"info_communes_parc.csv\", sep=\";\")"
   ]
  },
  {
   "cell_type": "code",
   "execution_count": 2,
   "metadata": {},
   "outputs": [],
   "source": [
    "elite = 0.2\n",
    "mutations = 0.1\n",
    "taille_echantillon = 5000\n",
    "scores = pd.DataFrame({\"kms\":[],\"pois\":[],\"hotel_j3\":[],\"hotel_j7\":[]})\n",
    "nb_etapes = 10"
   ]
  },
  {
   "cell_type": "code",
   "execution_count": 3,
   "metadata": {},
   "outputs": [],
   "source": [
    "def distance (depart, arrivee) :\n",
    "    tmp = df.loc[df[\"insee\"].isin([depart,arrivee]), \"lat_centre\":\"long_centre\"]\n",
    "    x_dep = tmp.iloc[0,1]\n",
    "    y_dep = tmp.iloc[0,0]\n",
    "    x_arr = tmp.iloc[1,1]\n",
    "    y_arr = tmp.iloc[1,0]\n",
    "    distance = math.acos(math.sin(math.radians(x_dep))*math.sin(math.radians(x_arr))+math.cos(math.radians(x_dep))*math.cos(math.radians(x_arr))*math.cos(math.radians(y_dep-y_arr)))*6371\n",
    "    return round(distance,1)\n",
    "noms_villes = df[\"insee\"].tolist()"
   ]
  },
  {
   "cell_type": "code",
   "execution_count": 4,
   "metadata": {},
   "outputs": [],
   "source": [
    "def generateur_aleatoire (n_etapes, n_iterations, liste) :\n",
    "    tmp_array = np.zeros(shape=(n_iterations,n_etapes))\n",
    "    for h in range(n_iterations) :\n",
    "        liste_voyage = []\n",
    "        tmp_liste = liste.copy()\n",
    "        for i in range(n_etapes) :\n",
    "            nombre_alea = randrange(0, len(tmp_liste), 1)\n",
    "            liste_voyage.append(tmp_liste[nombre_alea])\n",
    "            tmp_liste.pop(nombre_alea)\n",
    "        tmp_array[h] =  liste_voyage\n",
    "        print(\"ligne \" + str(h),end='\\r')\n",
    "    return tmp_array"
   ]
  },
  {
   "cell_type": "code",
   "execution_count": 5,
   "metadata": {},
   "outputs": [
    {
     "name": "stdout",
     "output_type": "stream",
     "text": [
      "ligne 4999\r"
     ]
    }
   ],
   "source": [
    "generation = generateur_aleatoire(nb_etapes,taille_echantillon, noms_villes)"
   ]
  },
  {
   "cell_type": "markdown",
   "metadata": {},
   "source": [
    "**Préparation des fonctions et paramètres pour les nouvelles générations**"
   ]
  },
  {
   "cell_type": "code",
   "execution_count": 6,
   "metadata": {},
   "outputs": [],
   "source": [
    "def notation (matrice) :\n",
    "    #pense bete tri colonnes array[array[:, 1].argsort()]\n",
    "    global scores\n",
    "    #decompte distance\n",
    "    for i in range(taille_echantillon) :\n",
    "        distance_totale = 0\n",
    "        nb_poi = 0\n",
    "        print(\"ligne \"+ str(i),end='\\r')\n",
    "        for j in range(9) :\n",
    "            distance_totale += distance(matrice[i,j],matrice[i,j+1])\n",
    "        add_kms = distance_totale\n",
    "    #decompte POI\n",
    "        for k in range(10) :\n",
    "            valeur = int(df.loc[df[\"insee\"] == matrice[i,k], \"nb_poi\"])\n",
    "            nb_poi += valeur\n",
    "        add_pois = nb_poi\n",
    "        add_hj3 = df.loc[df[\"insee\"] == matrice[i,2], \"nb_hotels_3_etoiles_min\"].iloc[0]\n",
    "        add_j7 = df.loc[df[\"insee\"] == matrice[i,6], \"nb_hotels_3_etoiles_min\"].iloc[0]\n",
    "        scores = pd.concat([scores,pd.DataFrame({\"kms\":[add_kms],\"pois\":[add_pois],\"hotel_j3\":[add_hj3],\"hotel_j7\":[add_j7]})], axis=0)"
   ]
  },
  {
   "cell_type": "code",
   "execution_count": 7,
   "metadata": {},
   "outputs": [
    {
     "name": "stdout",
     "output_type": "stream",
     "text": [
      "ligne 19\r"
     ]
    },
    {
     "name": "stderr",
     "output_type": "stream",
     "text": [
      "/var/folders/lt/rhw2z5td2p1b37fff0l4xc4m0000gn/T/ipykernel_1768/2790168891.py:14: FutureWarning: Calling int on a single element Series is deprecated and will raise a TypeError in the future. Use int(ser.iloc[0]) instead\n",
      "  valeur = int(df.loc[df[\"insee\"] == matrice[i,k], \"nb_poi\"])\n"
     ]
    },
    {
     "name": "stdout",
     "output_type": "stream",
     "text": [
      "ligne 4999\r"
     ]
    }
   ],
   "source": [
    "notation(generation)"
   ]
  },
  {
   "cell_type": "code",
   "execution_count": 14,
   "metadata": {},
   "outputs": [],
   "source": [
    "scores = scores.sort_values(by=\"kms\",ascending=True)\n",
    "scores[\"decile_km\"] = 0\n",
    "for i in range(scores.shape[0]) :\n",
    "    scores.iloc[i,4] = math.floor(i / (taille_echantillon / 10)) + 1\n",
    "scores = scores.sort_values(by=\"pois\",ascending=False)\n",
    "scores[\"decile_poi\"] = 0\n",
    "for i in range(scores.shape[0]) :\n",
    "    scores.iloc[i,5] = math.floor(i / (taille_echantillon / 10)) + 1\n",
    "scores[\"decile_cumul\"] = 10\n",
    "for i in range(scores.shape[0]) :\n",
    "    for j in range(1,10) :\n",
    "        if scores.iloc[i,4] == j and scores.iloc[i,5] == j :\n",
    "            scores.iloc[i,6] = j\n",
    "scores = scores.sort_values(by=[\"decile_cumul\",\"pois\",\"kms\"],ascending=[True,False,True])"
   ]
  },
  {
   "cell_type": "code",
   "execution_count": 18,
   "metadata": {},
   "outputs": [],
   "source": []
  },
  {
   "cell_type": "code",
   "execution_count": 27,
   "metadata": {},
   "outputs": [],
   "source": [
    "scores.to_csv(\"export.csv\",sep=\";\")"
   ]
  },
  {
   "cell_type": "code",
   "execution_count": 26,
   "metadata": {},
   "outputs": [
    {
     "data": {
      "text/html": [
       "<div>\n",
       "<style scoped>\n",
       "    .dataframe tbody tr th:only-of-type {\n",
       "        vertical-align: middle;\n",
       "    }\n",
       "\n",
       "    .dataframe tbody tr th {\n",
       "        vertical-align: top;\n",
       "    }\n",
       "\n",
       "    .dataframe thead th {\n",
       "        text-align: right;\n",
       "    }\n",
       "</style>\n",
       "<table border=\"1\" class=\"dataframe\">\n",
       "  <thead>\n",
       "    <tr style=\"text-align: right;\">\n",
       "      <th></th>\n",
       "      <th>kms</th>\n",
       "      <th>pois</th>\n",
       "      <th>hotel_j3</th>\n",
       "      <th>hotel_j7</th>\n",
       "      <th>decile_km</th>\n",
       "      <th>decile_poi</th>\n",
       "      <th>decile_cumul</th>\n",
       "    </tr>\n",
       "  </thead>\n",
       "  <tbody>\n",
       "    <tr>\n",
       "      <th>0</th>\n",
       "      <td>269.4</td>\n",
       "      <td>78.0</td>\n",
       "      <td>6.0</td>\n",
       "      <td>0.0</td>\n",
       "      <td>1</td>\n",
       "      <td>1</td>\n",
       "      <td>1</td>\n",
       "    </tr>\n",
       "    <tr>\n",
       "      <th>0</th>\n",
       "      <td>262.3</td>\n",
       "      <td>73.0</td>\n",
       "      <td>0.0</td>\n",
       "      <td>0.0</td>\n",
       "      <td>1</td>\n",
       "      <td>1</td>\n",
       "      <td>1</td>\n",
       "    </tr>\n",
       "    <tr>\n",
       "      <th>0</th>\n",
       "      <td>239.4</td>\n",
       "      <td>70.0</td>\n",
       "      <td>0.0</td>\n",
       "      <td>0.0</td>\n",
       "      <td>1</td>\n",
       "      <td>1</td>\n",
       "      <td>1</td>\n",
       "    </tr>\n",
       "    <tr>\n",
       "      <th>0</th>\n",
       "      <td>254.7</td>\n",
       "      <td>69.0</td>\n",
       "      <td>2.0</td>\n",
       "      <td>2.0</td>\n",
       "      <td>1</td>\n",
       "      <td>1</td>\n",
       "      <td>1</td>\n",
       "    </tr>\n",
       "    <tr>\n",
       "      <th>0</th>\n",
       "      <td>261.0</td>\n",
       "      <td>68.0</td>\n",
       "      <td>0.0</td>\n",
       "      <td>0.0</td>\n",
       "      <td>1</td>\n",
       "      <td>1</td>\n",
       "      <td>1</td>\n",
       "    </tr>\n",
       "    <tr>\n",
       "      <th>...</th>\n",
       "      <td>...</td>\n",
       "      <td>...</td>\n",
       "      <td>...</td>\n",
       "      <td>...</td>\n",
       "      <td>...</td>\n",
       "      <td>...</td>\n",
       "      <td>...</td>\n",
       "    </tr>\n",
       "    <tr>\n",
       "      <th>0</th>\n",
       "      <td>318.2</td>\n",
       "      <td>10.0</td>\n",
       "      <td>3.0</td>\n",
       "      <td>0.0</td>\n",
       "      <td>4</td>\n",
       "      <td>10</td>\n",
       "      <td>10</td>\n",
       "    </tr>\n",
       "    <tr>\n",
       "      <th>0</th>\n",
       "      <td>321.3</td>\n",
       "      <td>9.0</td>\n",
       "      <td>0.0</td>\n",
       "      <td>0.0</td>\n",
       "      <td>4</td>\n",
       "      <td>10</td>\n",
       "      <td>10</td>\n",
       "    </tr>\n",
       "    <tr>\n",
       "      <th>0</th>\n",
       "      <td>326.8</td>\n",
       "      <td>9.0</td>\n",
       "      <td>3.0</td>\n",
       "      <td>0.0</td>\n",
       "      <td>4</td>\n",
       "      <td>10</td>\n",
       "      <td>10</td>\n",
       "    </tr>\n",
       "    <tr>\n",
       "      <th>0</th>\n",
       "      <td>303.5</td>\n",
       "      <td>8.0</td>\n",
       "      <td>0.0</td>\n",
       "      <td>0.0</td>\n",
       "      <td>3</td>\n",
       "      <td>10</td>\n",
       "      <td>10</td>\n",
       "    </tr>\n",
       "    <tr>\n",
       "      <th>0</th>\n",
       "      <td>348.5</td>\n",
       "      <td>8.0</td>\n",
       "      <td>3.0</td>\n",
       "      <td>0.0</td>\n",
       "      <td>5</td>\n",
       "      <td>10</td>\n",
       "      <td>10</td>\n",
       "    </tr>\n",
       "  </tbody>\n",
       "</table>\n",
       "<p>5000 rows × 7 columns</p>\n",
       "</div>"
      ],
      "text/plain": [
       "      kms  pois  hotel_j3  hotel_j7  decile_km  decile_poi  decile_cumul\n",
       "0   269.4  78.0       6.0       0.0          1           1             1\n",
       "0   262.3  73.0       0.0       0.0          1           1             1\n",
       "0   239.4  70.0       0.0       0.0          1           1             1\n",
       "0   254.7  69.0       2.0       2.0          1           1             1\n",
       "0   261.0  68.0       0.0       0.0          1           1             1\n",
       "..    ...   ...       ...       ...        ...         ...           ...\n",
       "0   318.2  10.0       3.0       0.0          4          10            10\n",
       "0   321.3   9.0       0.0       0.0          4          10            10\n",
       "0   326.8   9.0       3.0       0.0          4          10            10\n",
       "0   303.5   8.0       0.0       0.0          3          10            10\n",
       "0   348.5   8.0       3.0       0.0          5          10            10\n",
       "\n",
       "[5000 rows x 7 columns]"
      ]
     },
     "execution_count": 26,
     "metadata": {},
     "output_type": "execute_result"
    }
   ],
   "source": [
    "\n",
    "scores"
   ]
  }
 ],
 "metadata": {
  "kernelspec": {
   "display_name": "perso",
   "language": "python",
   "name": "python3"
  },
  "language_info": {
   "codemirror_mode": {
    "name": "ipython",
    "version": 3
   },
   "file_extension": ".py",
   "mimetype": "text/x-python",
   "name": "python",
   "nbconvert_exporter": "python",
   "pygments_lexer": "ipython3",
   "version": "3.12.4"
  }
 },
 "nbformat": 4,
 "nbformat_minor": 2
}
