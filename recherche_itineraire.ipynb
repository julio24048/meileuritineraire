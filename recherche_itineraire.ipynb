{
 "cells": [
  {
   "cell_type": "markdown",
   "metadata": {},
   "source": [
    "**Import modules et données puis préparation**"
   ]
  },
  {
   "cell_type": "code",
   "execution_count": 1,
   "metadata": {},
   "outputs": [],
   "source": [
    "import math\n",
    "from random import randrange, randint\n",
    "import numpy as np\n",
    "import pandas as pd\n",
    "df = pd.read_csv(\"info_communes_parc.csv\", sep=\";\")"
   ]
  },
  {
   "cell_type": "code",
   "execution_count": 2,
   "metadata": {},
   "outputs": [],
   "source": [
    "elite = 0.2\n",
    "tx_mutations = 0.1\n",
    "taille_echantillon = 5000\n",
    "trajets = pd.DataFrame({\"itineraire\":[],\"kms\":[],\"pois\":[],\"hotel_j3\":[],\"hotel_j7\":[]})\n",
    "nb_etapes = 10"
   ]
  },
  {
   "cell_type": "code",
   "execution_count": 3,
   "metadata": {},
   "outputs": [],
   "source": [
    "def distance (depart, arrivee) :\n",
    "    tmp = df.loc[df[\"insee\"].isin([depart,arrivee]), \"lat_centre\":\"long_centre\"]\n",
    "    x_dep = tmp.iloc[0,1]\n",
    "    y_dep = tmp.iloc[0,0]\n",
    "    x_arr = tmp.iloc[1,1]\n",
    "    y_arr = tmp.iloc[1,0]\n",
    "    distance = math.acos(math.sin(math.radians(x_dep))*math.sin(math.radians(x_arr))+math.cos(math.radians(x_dep))*math.cos(math.radians(x_arr))*math.cos(math.radians(y_dep-y_arr)))*6371\n",
    "    return round(distance,1)\n",
    "noms_villes = df[\"insee\"].tolist()"
   ]
  },
  {
   "cell_type": "code",
   "execution_count": 4,
   "metadata": {},
   "outputs": [],
   "source": [
    "def generateur_aleatoire (n_etapes, n_iterations, liste) :\n",
    "    trajets = []\n",
    "    for h in range(n_iterations) :\n",
    "        liste_voyage = []\n",
    "        tmp_liste = liste.copy()\n",
    "        for i in range(n_etapes) :\n",
    "            nombre_alea = randrange(0, len(tmp_liste), 1)\n",
    "            liste_voyage.append(tmp_liste[nombre_alea])\n",
    "            tmp_liste.pop(nombre_alea)\n",
    "        trajets.append(liste_voyage)\n",
    "    return trajets"
   ]
  },
  {
   "cell_type": "code",
   "execution_count": 5,
   "metadata": {},
   "outputs": [],
   "source": [
    "trajets[\"itineraire\"] = generateur_aleatoire(nb_etapes,taille_echantillon, noms_villes)"
   ]
  },
  {
   "cell_type": "code",
   "execution_count": 7,
   "metadata": {},
   "outputs": [],
   "source": [
    "def notation () :\n",
    "    #pense bete tri colonnes array[array[:, 1].argsort()]\n",
    "    global trajets\n",
    "    #decompte distance\n",
    "    for i in range(taille_echantillon) :\n",
    "        distance_totale = 0\n",
    "        nb_poi = 0\n",
    "        print(\"ligne \"+ str(i),end='\\r')\n",
    "        for j in range(9) :\n",
    "            distance_totale += distance(trajets.iloc[i,0][j],trajets.iloc[i,0][j+1])\n",
    "        trajets.iloc[i,1] = distance_totale\n",
    "    #decompte POI\n",
    "        for k in range(10) :\n",
    "            valeur = df.loc[df[\"insee\"] == trajets.iloc[i,0][k], \"nb_poi\"].iloc[0]\n",
    "            nb_poi += valeur\n",
    "        trajets.iloc[i,2] = nb_poi\n",
    "        trajets.iloc[i,3] = df.loc[df[\"insee\"] == trajets.iloc[i,0][2], \"nb_hotels_3_etoiles_min\"].iloc[0]\n",
    "        trajets.iloc[i,4] = df.loc[df[\"insee\"] == trajets.iloc[i,0][6], \"nb_hotels_3_etoiles_min\"].iloc[0]"
   ]
  },
  {
   "cell_type": "code",
   "execution_count": 8,
   "metadata": {},
   "outputs": [
    {
     "name": "stdout",
     "output_type": "stream",
     "text": [
      "ligne 4999\r"
     ]
    }
   ],
   "source": [
    "notation()"
   ]
  },
  {
   "cell_type": "code",
   "execution_count": 9,
   "metadata": {},
   "outputs": [],
   "source": [
    "trajets = trajets.sort_values(by=\"kms\",ascending=True)\n",
    "trajets[\"decile_km\"] = 0\n",
    "for i in range(trajets.shape[0]) :\n",
    "    trajets.iloc[i,5] = math.floor(i / (taille_echantillon / 10)) + 1\n",
    "trajets = trajets.sort_values(by=\"pois\",ascending=False)\n",
    "trajets[\"decile_poi\"] = 0\n",
    "for i in range(trajets.shape[0]) :\n",
    "    trajets.iloc[i,6] = math.floor(i / (taille_echantillon / 10)) + 1\n",
    "trajets[\"decile_cumul\"] = 10\n",
    "for i in range(trajets.shape[0]) :\n",
    "    for j in range(1,10) :\n",
    "        if trajets.iloc[i,5] == j and trajets.iloc[i,6] == j :\n",
    "            trajets.iloc[i,7] = j\n",
    "trajets = trajets.sort_values(by=[\"decile_cumul\",\"pois\",\"kms\"],ascending=[True,False,True])"
   ]
  },
  {
   "cell_type": "code",
   "execution_count": 10,
   "metadata": {},
   "outputs": [],
   "source": [
    "if trajets[trajets[\"decile_cumul\"]!=10].shape[0] < math.floor(taille_echantillon * elite) :\n",
    "    nextgen = trajets.iloc[0:trajets[trajets[\"decile_cumul\"]!=10].shape[0],0].tolist()\n",
    "else :\n",
    "    nextgen = trajets.iloc[0:math.floor(taille_echantillon * elite),0].tolist()"
   ]
  },
  {
   "cell_type": "code",
   "execution_count": 10,
   "metadata": {},
   "outputs": [],
   "source": [
    "def mutations (tx_mutation) :\n",
    "    global trajets\n",
    "    tmp_liste = trajets.sample(frac=tx_mutation).iloc[:,0].tolist()\n",
    "    liste_mutants = []\n",
    "    for genome in tmp_liste :\n",
    "        alea = randint(0,2)\n",
    "        if alea == 0 :\n",
    "            gene1 = randrange(0,10)\n",
    "            gene2 = gene1\n",
    "            while gene2 == gene1 :\n",
    "                gene2 = randrange(0,10)\n",
    "            genome[gene1], genome[gene2] = genome[gene2], genome[gene1]\n",
    "            liste_mutants.append(genome)\n",
    "        elif alea == 1 :\n",
    "            gene1 = randrange(0,10)\n",
    "            gene2 = gene1\n",
    "            while gene2 == gene1 :\n",
    "                gene2 = randrange(0,10)\n",
    "            gene_mutation = genome[gene2]\n",
    "            del(genome[gene2])\n",
    "            genome.insert(gene1 + 1, gene_mutation)\n",
    "            liste_mutants.append(genome)\n",
    "        else :\n",
    "            debut = randrange(0,10)\n",
    "            fin = randrange(debut + 1,10) if debut != 9 else 9\n",
    "            debut_liste = genome[0:debut]\n",
    "            liste_inverse = genome[debut:fin + 1]\n",
    "            liste_inverse.reverse()\n",
    "            fin_liste = genome[fin + 1 : 10]\n",
    "            genome = debut_liste + liste_inverse + fin_liste\n",
    "            liste_mutants.append(genome)\n",
    "    return liste_mutants"
   ]
  },
  {
   "cell_type": "code",
   "execution_count": 11,
   "metadata": {},
   "outputs": [],
   "source": [
    "lesmutants = mutations(tx_mutations)"
   ]
  },
  {
   "cell_type": "code",
   "execution_count": 12,
   "metadata": {},
   "outputs": [],
   "source": [
    "nb_croisements = taille_echantillon - len(nextgen) - len(lesmutants)\n",
    "def croisements(nb_croisements) :\n",
    "    global trajets\n",
    "    tmp_liste = trajets.iloc[:,0].tolist()\n",
    "    liste_croisements = []\n",
    "    for i in range(nb_croisements) :\n",
    "        genome_enfant = []\n",
    "        parent1 = randrange(0,len(tmp_liste))\n",
    "        parent2 = parent1\n",
    "        while parent2 == parent1 :\n",
    "            parent2 = randrange(0,len(tmp_liste))\n",
    "        for j in range(10) :\n",
    "            if tmp_liste[parent1][j] not in genome_enfant and tmp_liste[parent2][j] not in genome_enfant :\n",
    "                alea = randint(0,1)\n",
    "                genome_enfant.append(tmp_liste[parent1][j]) if alea == 0 else genome_enfant.append(tmp_liste[parent2][j])\n",
    "            elif (tmp_liste[parent1][j] in genome_enfant and tmp_liste[parent2][j] not in genome_enfant) or (tmp_liste[parent1][j] not in genome_enfant and tmp_liste[parent2][j] in genome_enfant):\n",
    "                genome_enfant.append(tmp_liste[parent2][j]) if tmp_liste[parent1][j] in genome_enfant else genome_enfant.append(tmp_liste[parent1][j])\n",
    "            else :\n",
    "                genes_disponibles = []\n",
    "                for k in tmp_liste[parent1] + tmp_liste[parent2] :\n",
    "                    if k not in genes_disponibles and k not in genome_enfant :\n",
    "                        genes_disponibles.append(k)\n",
    "                genome_enfant.append(genes_disponibles[randrange(0,len(genes_disponibles))])\n",
    "        liste_croisements.append(genome_enfant)\n",
    "    return liste_croisements"
   ]
  },
  {
   "cell_type": "code",
   "execution_count": 18,
   "metadata": {},
   "outputs": [],
   "source": [
    "lesenfants = croisements(nb_croisements)"
   ]
  },
  {
   "cell_type": "code",
   "execution_count": 35,
   "metadata": {},
   "outputs": [
    {
     "name": "stdout",
     "output_type": "stream",
     "text": [
      "Liernais Villiers-en-Morvan Champeau-en-Morvan Châtin La Celle-en-Morvan Glux-en-Glenne Montlay-en-Auxois Vauclaix Avallon Bazoches  - 266.2 kms - 56.0 pois\n"
     ]
    }
   ],
   "source": [
    "prompt = \"\"\n",
    "for i in trajets[(trajets[\"hotel_j3\"] > 0) & (trajets[\"hotel_j7\"] > 0)].iloc[0,0] :\n",
    "    prompt += df.loc[df[\"insee\"] == i, \"nom\"].iloc[0] + \" \"\n",
    "prompt += \" - \" + str(round(trajets[(trajets[\"hotel_j3\"]> 0) & (trajets[\"hotel_j7\"]> 0)].iloc[0,1],1)) + \" kms\"\n",
    "prompt += \" - \" + str(trajets[(trajets[\"hotel_j3\"]> 0) & (trajets[\"hotel_j7\"]> 0)].iloc[0,2]) + \" pois\"\n",
    "print (prompt)"
   ]
  }
 ],
 "metadata": {
  "kernelspec": {
   "display_name": "perso",
   "language": "python",
   "name": "python3"
  },
  "language_info": {
   "codemirror_mode": {
    "name": "ipython",
    "version": 3
   },
   "file_extension": ".py",
   "mimetype": "text/x-python",
   "name": "python",
   "nbconvert_exporter": "python",
   "pygments_lexer": "ipython3",
   "version": "3.12.4"
  }
 },
 "nbformat": 4,
 "nbformat_minor": 2
}
