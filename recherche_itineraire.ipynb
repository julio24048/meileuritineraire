{
 "cells": [
  {
   "cell_type": "markdown",
   "metadata": {},
   "source": [
    "**Import modules et données puis préparation**"
   ]
  },
  {
   "cell_type": "code",
   "execution_count": 1,
   "metadata": {},
   "outputs": [],
   "source": [
    "import math\n",
    "from random import randrange\n",
    "import numpy as np\n",
    "import pandas as pd\n",
    "df = pd.read_csv(\"info_communes_parc.csv\", sep=\";\")"
   ]
  },
  {
   "cell_type": "code",
   "execution_count": 32,
   "metadata": {},
   "outputs": [],
   "source": [
    "elite = 0.2\n",
    "gueux = 0.05\n",
    "mutations = 0.1\n",
    "taille_echantillon = 5000\n",
    "scores = np.zeros(shape=(taille_echantillon,6))\n",
    "nb_etapes = 10"
   ]
  },
  {
   "cell_type": "code",
   "execution_count": 3,
   "metadata": {},
   "outputs": [],
   "source": [
    "def distance (depart, arrivee) :\n",
    "    tmp = df.loc[df[\"insee\"].isin([depart,arrivee]), \"lat_centre\":\"long_centre\"]\n",
    "    x_dep = tmp.iloc[0,1]\n",
    "    y_dep = tmp.iloc[0,0]\n",
    "    x_arr = tmp.iloc[1,1]\n",
    "    y_arr = tmp.iloc[1,0]\n",
    "    distance = math.acos(math.sin(math.radians(x_dep))*math.sin(math.radians(x_arr))+math.cos(math.radians(x_dep))*math.cos(math.radians(x_arr))*math.cos(math.radians(y_dep-y_arr)))*6371\n",
    "    return round(distance,1)\n",
    "noms_villes = df[\"insee\"].tolist()"
   ]
  },
  {
   "cell_type": "code",
   "execution_count": 33,
   "metadata": {},
   "outputs": [],
   "source": [
    "def generateur_aleatoire (n_etapes, n_iterations, liste) :\n",
    "    tmp_array = np.zeros(shape=(n_iterations,n_etapes))\n",
    "    for h in range(n_iterations) :\n",
    "        liste_voyage = []\n",
    "        tmp_liste = liste.copy()\n",
    "        for i in range(n_etapes) :\n",
    "            nombre_alea = randrange(0, len(tmp_liste), 1)\n",
    "            liste_voyage.append(tmp_liste[nombre_alea])\n",
    "            tmp_liste.pop(nombre_alea)\n",
    "        tmp_array[h] =  liste_voyage\n",
    "        print(\"ligne \" + str(h),end='\\r')\n",
    "    return tmp_array"
   ]
  },
  {
   "cell_type": "code",
   "execution_count": 34,
   "metadata": {},
   "outputs": [
    {
     "name": "stdout",
     "output_type": "stream",
     "text": [
      "ligne 4999\r"
     ]
    }
   ],
   "source": [
    "generation = generateur_aleatoire(nb_etapes,taille_echantillon, noms_villes)"
   ]
  },
  {
   "cell_type": "code",
   "execution_count": null,
   "metadata": {},
   "outputs": [],
   "source": [
    "#on peut sauvegarder la matrice pour les futurs devs\n",
    "with open(\"matrice.npy\", \"wb\") as f:\n",
    "    np.save(f, matrice)"
   ]
  },
  {
   "cell_type": "markdown",
   "metadata": {},
   "source": [
    "**Préparation des fonctions et paramètres pour les nouvelles générations**"
   ]
  },
  {
   "cell_type": "code",
   "execution_count": 30,
   "metadata": {},
   "outputs": [],
   "source": [
    "with open(\"matrice.npy\", \"rb\") as f:\n",
    "    matrice = np.load(f)"
   ]
  },
  {
   "cell_type": "code",
   "execution_count": 38,
   "metadata": {},
   "outputs": [],
   "source": [
    "def notation_init (matrice) :\n",
    "    #pense bete tri colonnes array[array[:, 1].argsort()]\n",
    "    #decompte distance\n",
    "    for i in range(scores.shape[0]) :\n",
    "        distance_totale = 0\n",
    "        for j in range(9) :\n",
    "            print(\"nb nm \" + str(i),end='\\r')\n",
    "            distance_totale += distance(matrice[i,j],matrice[i,j+1])\n",
    "        scores[i,0] = distance_totale\n",
    "    #decompte POI\n",
    "    for i in range(scores.shape[0]) :\n",
    "        nb_poi = 0\n",
    "        for j in range(10) :\n",
    "            valeur = int(df.loc[df[\"insee\"] == matrice[i,j], \"nb_poi\"])\n",
    "            print(\"nb poi \" + str(i),end='\\r')\n",
    "            nb_poi += valeur\n",
    "        scores[i,2] = nb_poi"
   ]
  },
  {
   "cell_type": "code",
   "execution_count": 39,
   "metadata": {},
   "outputs": [
    {
     "name": "stdout",
     "output_type": "stream",
     "text": [
      "nb poi 4999\r"
     ]
    }
   ],
   "source": [
    "notation_init(generation)"
   ]
  },
  {
   "cell_type": "code",
   "execution_count": 41,
   "metadata": {},
   "outputs": [
    {
     "data": {
      "text/plain": [
       "array([354.3,   0. ,  23. ,   0. ,   0. ,   0. ])"
      ]
     },
     "execution_count": 41,
     "metadata": {},
     "output_type": "execute_result"
    }
   ],
   "source": [
    "scores[5]"
   ]
  },
  {
   "cell_type": "code",
   "execution_count": 2,
   "metadata": {},
   "outputs": [],
   "source": [
    "df = pd.read_csv(\"effectifs.csv\",sep=\";\", low_memory=False)"
   ]
  },
  {
   "cell_type": "code",
   "execution_count": 3,
   "metadata": {},
   "outputs": [
    {
     "name": "stdout",
     "output_type": "stream",
     "text": [
      "<class 'pandas.core.frame.DataFrame'>\n",
      "RangeIndex: 4057201 entries, 0 to 4057200\n",
      "Data columns (total 16 columns):\n",
      " #   Column              Dtype  \n",
      "---  ------              -----  \n",
      " 0   annee               float64\n",
      " 1   patho_niv1          object \n",
      " 2   patho_niv2          object \n",
      " 3   patho_niv3          object \n",
      " 4   top                 object \n",
      " 5   cla_age_5           object \n",
      " 6   sexe                float64\n",
      " 7   region              int64  \n",
      " 8   dept                object \n",
      " 9   ntop                float64\n",
      " 10  npop                float64\n",
      " 11  prev                float64\n",
      " 12  niveau_prioritaire  object \n",
      " 13  libelle_classe_age  object \n",
      " 14  libelle_sexe        object \n",
      " 15  tri                 float64\n",
      "dtypes: float64(6), int64(1), object(9)\n",
      "memory usage: 495.3+ MB\n"
     ]
    }
   ],
   "source": [
    "df.info()"
   ]
  },
  {
   "cell_type": "code",
   "execution_count": 5,
   "metadata": {},
   "outputs": [],
   "source": [
    "tmpliste = df[\"patho_niv2\"].unique()"
   ]
  },
  {
   "cell_type": "code",
   "execution_count": 6,
   "metadata": {},
   "outputs": [
    {
     "name": "stdout",
     "output_type": "stream",
     "text": [
      "nan\n"
     ]
    }
   ],
   "source": [
    "liste = []\n",
    "for i in tmpliste :\n",
    "    try :\n",
    "        if ('cancer' in i)  or ('Cancer' in i) or ('cancers' in i) or ('Cancers' in i):\n",
    "            liste.append(i)\n",
    "    except :\n",
    "        print(i)"
   ]
  },
  {
   "cell_type": "code",
   "execution_count": 7,
   "metadata": {},
   "outputs": [
    {
     "data": {
      "text/plain": [
       "['Autres cancers',\n",
       " 'Cancer colorectal',\n",
       " 'Cancer du sein de la femme',\n",
       " 'Cancer du poumon',\n",
       " 'Cancer de la prostate']"
      ]
     },
     "execution_count": 7,
     "metadata": {},
     "output_type": "execute_result"
    }
   ],
   "source": [
    "liste"
   ]
  },
  {
   "cell_type": "code",
   "execution_count": 8,
   "metadata": {},
   "outputs": [],
   "source": [
    "df_filtered = df[df[\"patho_niv2\"].isin(liste)]"
   ]
  },
  {
   "cell_type": "code",
   "execution_count": 9,
   "metadata": {},
   "outputs": [
    {
     "name": "stdout",
     "output_type": "stream",
     "text": [
      "<class 'pandas.core.frame.DataFrame'>\n",
      "Int64Index: 687960 entries, 56649 to 4017612\n",
      "Data columns (total 16 columns):\n",
      " #   Column              Non-Null Count   Dtype  \n",
      "---  ------              --------------   -----  \n",
      " 0   annee               687960 non-null  float64\n",
      " 1   patho_niv1          687960 non-null  object \n",
      " 2   patho_niv2          687960 non-null  object \n",
      " 3   patho_niv3          458640 non-null  object \n",
      " 4   top                 687960 non-null  object \n",
      " 5   cla_age_5           687960 non-null  object \n",
      " 6   sexe                687960 non-null  float64\n",
      " 7   region              687960 non-null  int64  \n",
      " 8   dept                687960 non-null  object \n",
      " 9   ntop                438078 non-null  float64\n",
      " 10  npop                687960 non-null  float64\n",
      " 11  prev                438078 non-null  float64\n",
      " 12  niveau_prioritaire  687960 non-null  object \n",
      " 13  libelle_classe_age  687960 non-null  object \n",
      " 14  libelle_sexe        687960 non-null  object \n",
      " 15  tri                 687960 non-null  float64\n",
      "dtypes: float64(6), int64(1), object(9)\n",
      "memory usage: 89.2+ MB\n"
     ]
    }
   ],
   "source": [
    "df_filtered.info()"
   ]
  },
  {
   "cell_type": "code",
   "execution_count": 12,
   "metadata": {},
   "outputs": [],
   "source": [
    "df_agg = df_filtered.groupby([\"annee\",\"region\",\"libelle_classe_age\"]).agg({\"ntop\":\"sum\",\"npop\":\"sum\"})"
   ]
  },
  {
   "cell_type": "code",
   "execution_count": 13,
   "metadata": {},
   "outputs": [],
   "source": [
    "df_agg.to_csv(\"export.csv\")"
   ]
  }
 ],
 "metadata": {
  "kernelspec": {
   "display_name": "perso",
   "language": "python",
   "name": "python3"
  },
  "language_info": {
   "codemirror_mode": {
    "name": "ipython",
    "version": 3
   },
   "file_extension": ".py",
   "mimetype": "text/x-python",
   "name": "python",
   "nbconvert_exporter": "python",
   "pygments_lexer": "ipython3",
   "version": "3.10.6"
  }
 },
 "nbformat": 4,
 "nbformat_minor": 2
}
